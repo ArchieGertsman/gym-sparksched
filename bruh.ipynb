{
 "cells": [
  {
   "cell_type": "code",
   "execution_count": 1,
   "metadata": {},
   "outputs": [],
   "source": [
    "import torch"
   ]
  },
  {
   "cell_type": "code",
   "execution_count": 15,
   "metadata": {},
   "outputs": [],
   "source": [
    "prof = torch.profiler.profile(\n",
    "    schedule=torch.profiler.schedule(wait=0, warmup=0, active=1, repeat=1),\n",
    "    on_trace_ready=torch.profiler.tensorboard_trace_handler('log/perf'),\n",
    "    record_shapes=True,\n",
    "    with_stack=True,\n",
    "    profile_memory=True)\n",
    "\n",
    "device = torch.device('cuda:0')"
   ]
  },
  {
   "cell_type": "code",
   "execution_count": 16,
   "metadata": {},
   "outputs": [],
   "source": [
    "prof.start()\n",
    "\n",
    "s1 = torch.cuda.Stream(device=device)\n",
    "s2 = torch.cuda.Stream(device=device)\n",
    "\n",
    "a = torch.rand(7500, 7500, device=device)\n",
    "\n",
    "with torch.cuda.stream(s1):\n",
    "    torch.matmul(a, a)\n",
    "\n",
    "with torch.cuda.stream(s2):\n",
    "    torch.matmul(a, a)\n",
    "\n",
    "torch.cuda.synchronize(device=device)\n",
    "\n",
    "prof.step()\n",
    "prof.stop()"
   ]
  },
  {
   "cell_type": "code",
   "execution_count": null,
   "metadata": {},
   "outputs": [],
   "source": [
    "num_jobs_per_env = torch.arange(16)\n",
    "\n",
    "num_total_jobs = num_jobs_per_env.sum().item()\n",
    "\n",
    "worker_actions = torch.arange(50)\n",
    "worker_actions = worker_actions.repeat(num_total_jobs).unsqueeze(1)\n",
    "\n",
    "worker_actions"
   ]
  },
  {
   "cell_type": "code",
   "execution_count": null,
   "metadata": {},
   "outputs": [],
   "source": []
  }
 ],
 "metadata": {
  "kernelspec": {
   "display_name": "py39",
   "language": "python",
   "name": "python3"
  },
  "language_info": {
   "codemirror_mode": {
    "name": "ipython",
    "version": 3
   },
   "file_extension": ".py",
   "mimetype": "text/x-python",
   "name": "python",
   "nbconvert_exporter": "python",
   "pygments_lexer": "ipython3",
   "version": "3.9.12 (main, Jun  1 2022, 11:38:51) \n[GCC 7.5.0]"
  },
  "orig_nbformat": 4,
  "vscode": {
   "interpreter": {
    "hash": "12ee45e97ef14638ad9f2e5f873aab4e670f2eea4babe32e99a72930d1a4620a"
   }
  }
 },
 "nbformat": 4,
 "nbformat_minor": 2
}
